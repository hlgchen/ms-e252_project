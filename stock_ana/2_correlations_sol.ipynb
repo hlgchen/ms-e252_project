{
 "cells": [
  {
   "cell_type": "code",
   "execution_count": 1,
   "id": "f3be89c7-fb00-4ede-a1e8-3912d4bcb763",
   "metadata": {},
   "outputs": [],
   "source": [
    "%load_ext lab_black"
   ]
  },
  {
   "cell_type": "code",
   "execution_count": 2,
   "id": "949f9f46-8adf-4ae7-a6b9-92c4af9b9333",
   "metadata": {},
   "outputs": [],
   "source": [
    "from datetime import date, timedelta\n",
    "import numpy as np\n",
    "import pandas as pd\n",
    "from matplotlib import pyplot as plt"
   ]
  },
  {
   "cell_type": "code",
   "execution_count": 3,
   "id": "ac177766-1c77-485d-b18f-732fe6d50f7d",
   "metadata": {},
   "outputs": [],
   "source": [
    "df_btc = pd.read_csv(\"gemini_BTCUSD_day.csv\", header=1)\n",
    "df_eth = pd.read_csv(\"gemini_ETHUSD_day.csv\", header=1)\n",
    "df_sol = pd.read_csv(\"solana_investingcom.csv\", header=0)\n",
    "\n",
    "currency = pd.read_csv(\"FRB.csv\")\n",
    "sp500 = pd.read_csv(\"HistoricalData_spx.csv\")\n",
    "nasdaq = pd.read_csv(\"HistoricalData_comp.csv\")"
   ]
  },
  {
   "cell_type": "markdown",
   "id": "219b0d8f-8e0a-4537-8bf1-fae317385f8e",
   "metadata": {},
   "source": [
    "### preprocessing "
   ]
  },
  {
   "cell_type": "code",
   "execution_count": 4,
   "id": "21f4b115-e97c-4073-8569-7483177e6db9",
   "metadata": {},
   "outputs": [],
   "source": [
    "def preprocess_gemini_data(df):\n",
    "    df.columns = df.columns.str.lower().str.replace(\" \", \"_\")\n",
    "    df = df[[\"date\", \"symbol\", \"open\", \"high\", \"low\", \"close\", \"volume\"]].copy()\n",
    "    df.date = pd.to_datetime(df.date).dt.date\n",
    "    df.index = df.date\n",
    "    df = df.drop(columns=\"date\")\n",
    "    return df\n",
    "\n",
    "\n",
    "def preprocess_solana(df):\n",
    "    df.columns = df.columns.str.lower()\n",
    "    df.date = pd.to_datetime(df.date)\n",
    "    df.index = df.date\n",
    "    return df\n",
    "\n",
    "\n",
    "def preprocess_currency_data_to_series(currency, col_number):\n",
    "    euro = currency.iloc[6:, [0, col_number]]\n",
    "    euro.columns = [\"date\", \"price\"]\n",
    "    euro.date = pd.to_datetime(euro.date, errors=\"coerce\")\n",
    "    euro.price = pd.to_numeric(euro.price, errors=\"coerce\")\n",
    "    euro.index = euro.date\n",
    "    euro = euro.price.dropna()\n",
    "    return euro\n",
    "\n",
    "\n",
    "def preprocess_ns_data_to_series(df):\n",
    "    s = df[[\"Date\", \"Open\"]]\n",
    "    s.columns = s.columns.str.lower()\n",
    "    s.index = pd.to_datetime(s.date)\n",
    "    s = s.open\n",
    "    return s"
   ]
  },
  {
   "cell_type": "code",
   "execution_count": 5,
   "id": "c40e9363-a1a6-42ab-b8ee-594ca59b4596",
   "metadata": {},
   "outputs": [],
   "source": [
    "df_btc = preprocess_gemini_data(df_btc)\n",
    "df_eth = preprocess_gemini_data(df_eth)\n",
    "df_sol = preprocess_solana(df_sol)\n",
    "\n",
    "btc = df_btc.open\n",
    "eth = df_eth.open\n",
    "sol = df_sol.open\n",
    "\n",
    "sp500 = preprocess_ns_data_to_series(sp500)\n",
    "nasdaq = preprocess_ns_data_to_series(nasdaq)\n",
    "currency = preprocess_currency_data_to_series(currency, 2)"
   ]
  },
  {
   "cell_type": "code",
   "execution_count": 6,
   "id": "4408c2f1-df3e-4de1-b02f-d0ecc744b710",
   "metadata": {},
   "outputs": [
    {
     "name": "stderr",
     "output_type": "stream",
     "text": [
      "/opt/homebrew/Caskroom/miniforge/base/envs/pytorch/lib/python3.8/site-packages/pandas/core/indexes/base.py:3512: FutureWarning: Comparison of Timestamp with datetime.date is deprecated in order to match the standard library behavior.  In a future version these will be considered non-comparable.Use 'ts == pd.Timestamp(date)' or 'ts.date() == date' instead.\n",
      "  indexer = self._engine.get_indexer(target._get_engine_target())\n",
      "/opt/homebrew/Caskroom/miniforge/base/envs/pytorch/lib/python3.8/site-packages/pandas/core/algorithms.py:1799: FutureWarning: Comparison of Timestamp with datetime.date is deprecated in order to match the standard library behavior.  In a future version these will be considered non-comparable.Use 'ts == pd.Timestamp(date)' or 'ts.date() == date' instead.\n",
      "  sorter = values.argsort()\n",
      "/opt/homebrew/Caskroom/miniforge/base/envs/pytorch/lib/python3.8/site-packages/pandas/core/indexes/base.py:1963: FutureWarning: Comparison of Timestamp with datetime.date is deprecated in order to match the standard library behavior.  In a future version these will be considered non-comparable.Use 'ts == pd.Timestamp(date)' or 'ts.date() == date' instead.\n",
      "  return self._engine.is_monotonic_increasing\n",
      "/opt/homebrew/Caskroom/miniforge/base/envs/pytorch/lib/python3.8/site-packages/pandas/core/indexes/base.py:2023: FutureWarning: Comparison of Timestamp with datetime.date is deprecated in order to match the standard library behavior.  In a future version these will be considered non-comparable.Use 'ts == pd.Timestamp(date)' or 'ts.date() == date' instead.\n",
      "  return self._engine.is_unique\n",
      "/opt/homebrew/Caskroom/miniforge/base/envs/pytorch/lib/python3.8/site-packages/pandas/core/indexes/base.py:345: FutureWarning: Comparison of Timestamp with datetime.date is deprecated in order to match the standard library behavior.  In a future version these will be considered non-comparable.Use 'ts == pd.Timestamp(date)' or 'ts.date() == date' instead.\n",
      "  joined_ndarray, lidx, ridx = libjoin.outer_join_indexer(sv, ov)\n"
     ]
    }
   ],
   "source": [
    "ana = pd.concat(\n",
    "    [\n",
    "        btc.rename(\"btc\"),\n",
    "        eth.rename(\"eth\"),\n",
    "        sol.rename(\"sol\"),\n",
    "        sp500.rename(\"sp500\"),\n",
    "        nasdaq.rename(\"nas\"),\n",
    "        currency.rename(\"eur\"),\n",
    "    ],\n",
    "    axis=1,\n",
    "    join=\"outer\",\n",
    ")\n",
    "# ana = ana.dropna(axis=0)[1:].copy()"
   ]
  },
  {
   "cell_type": "code",
   "execution_count": 7,
   "id": "88cf9b99-64ae-493c-b9a5-c9b594585134",
   "metadata": {},
   "outputs": [
    {
     "data": {
      "text/html": [
       "<div>\n",
       "<style scoped>\n",
       "    .dataframe tbody tr th:only-of-type {\n",
       "        vertical-align: middle;\n",
       "    }\n",
       "\n",
       "    .dataframe tbody tr th {\n",
       "        vertical-align: top;\n",
       "    }\n",
       "\n",
       "    .dataframe thead th {\n",
       "        text-align: right;\n",
       "    }\n",
       "</style>\n",
       "<table border=\"1\" class=\"dataframe\">\n",
       "  <thead>\n",
       "    <tr style=\"text-align: right;\">\n",
       "      <th></th>\n",
       "      <th>btc</th>\n",
       "      <th>eth</th>\n",
       "      <th>sol</th>\n",
       "      <th>sp500</th>\n",
       "      <th>nas</th>\n",
       "      <th>eur</th>\n",
       "    </tr>\n",
       "  </thead>\n",
       "  <tbody>\n",
       "    <tr>\n",
       "      <th>btc</th>\n",
       "      <td>1.000000</td>\n",
       "      <td>0.927875</td>\n",
       "      <td>0.649573</td>\n",
       "      <td>0.899885</td>\n",
       "      <td>0.904437</td>\n",
       "      <td>0.346348</td>\n",
       "    </tr>\n",
       "    <tr>\n",
       "      <th>eth</th>\n",
       "      <td>0.927875</td>\n",
       "      <td>1.000000</td>\n",
       "      <td>0.899620</td>\n",
       "      <td>0.863744</td>\n",
       "      <td>0.836705</td>\n",
       "      <td>0.314957</td>\n",
       "    </tr>\n",
       "    <tr>\n",
       "      <th>sol</th>\n",
       "      <td>0.649573</td>\n",
       "      <td>0.899620</td>\n",
       "      <td>1.000000</td>\n",
       "      <td>0.809123</td>\n",
       "      <td>0.775379</td>\n",
       "      <td>-0.703472</td>\n",
       "    </tr>\n",
       "    <tr>\n",
       "      <th>sp500</th>\n",
       "      <td>0.899885</td>\n",
       "      <td>0.863744</td>\n",
       "      <td>0.809123</td>\n",
       "      <td>1.000000</td>\n",
       "      <td>0.986500</td>\n",
       "      <td>0.255733</td>\n",
       "    </tr>\n",
       "    <tr>\n",
       "      <th>nas</th>\n",
       "      <td>0.904437</td>\n",
       "      <td>0.836705</td>\n",
       "      <td>0.775379</td>\n",
       "      <td>0.986500</td>\n",
       "      <td>1.000000</td>\n",
       "      <td>0.304599</td>\n",
       "    </tr>\n",
       "    <tr>\n",
       "      <th>eur</th>\n",
       "      <td>0.346348</td>\n",
       "      <td>0.314957</td>\n",
       "      <td>-0.703472</td>\n",
       "      <td>0.255733</td>\n",
       "      <td>0.304599</td>\n",
       "      <td>1.000000</td>\n",
       "    </tr>\n",
       "  </tbody>\n",
       "</table>\n",
       "</div>"
      ],
      "text/plain": [
       "            btc       eth       sol     sp500       nas       eur\n",
       "btc    1.000000  0.927875  0.649573  0.899885  0.904437  0.346348\n",
       "eth    0.927875  1.000000  0.899620  0.863744  0.836705  0.314957\n",
       "sol    0.649573  0.899620  1.000000  0.809123  0.775379 -0.703472\n",
       "sp500  0.899885  0.863744  0.809123  1.000000  0.986500  0.255733\n",
       "nas    0.904437  0.836705  0.775379  0.986500  1.000000  0.304599\n",
       "eur    0.346348  0.314957 -0.703472  0.255733  0.304599  1.000000"
      ]
     },
     "execution_count": 7,
     "metadata": {},
     "output_type": "execute_result"
    }
   ],
   "source": [
    "ana.corr()"
   ]
  },
  {
   "cell_type": "markdown",
   "id": "c70dca74-0262-476c-b64b-e4627ca109b0",
   "metadata": {},
   "source": [
    "### helper function"
   ]
  },
  {
   "cell_type": "code",
   "execution_count": 8,
   "id": "9b3ec851-2429-416e-b1a4-f4dabb92c7fa",
   "metadata": {},
   "outputs": [],
   "source": [
    "def same_category(_df, i_range, normalize=False):\n",
    "    df = _df.copy()\n",
    "    for c in df.columns:\n",
    "        df[c] = df[c] - 1\n",
    "        if normalize:\n",
    "            df[c] = df[c] / (df[c] - 1).max()\n",
    "        sign = df[c].apply(lambda x: 1 if x > 0 else -1)\n",
    "        df[c] = (\n",
    "            df[c].apply(lambda x: 0 if (x > i_range[0]) and (x < i_range[1]) else 1)\n",
    "            * sign\n",
    "        )\n",
    "    return df"
   ]
  },
  {
   "cell_type": "code",
   "execution_count": 9,
   "id": "ad04d176-9e19-49e4-80d5-f3199f5fe1e5",
   "metadata": {},
   "outputs": [],
   "source": [
    "def cat_given_cat(cat_df, normalize=True):\n",
    "    ls = []\n",
    "    for c in cat_df.columns[1:]:\n",
    "        for cat in cat_df[c].unique():\n",
    "            base = cat_df.loc[cat_df[c] == cat]\n",
    "            sensitivity = base.iloc[:, 0].value_counts().rename(f\"{c}_eq_{cat}\")\n",
    "            if normalize:\n",
    "                sensitivity = sensitivity / len(base)\n",
    "            ls.append(sensitivity)\n",
    "    result = pd.concat(ls, axis=1)\n",
    "    return result"
   ]
  },
  {
   "cell_type": "markdown",
   "id": "c27497d3-9ad5-45c5-bbbc-3016b4a1fd56",
   "metadata": {},
   "source": [
    "### daily return"
   ]
  },
  {
   "cell_type": "code",
   "execution_count": 10,
   "id": "cad3fb2b-d883-4f34-bbf4-d7732e9b973b",
   "metadata": {},
   "outputs": [],
   "source": [
    "def daily_comparrision(coin):\n",
    "    comp = ana[[coin, \"sp500\", \"nas\"]].replace(0, np.nan)\n",
    "    comp[\"month\"] = (\n",
    "        pd.Series(comp.index).dt.year * 100 + pd.Series(comp.index).dt.month\n",
    "    ).values\n",
    "    comp[\"year\"] = (pd.Series(comp.index).dt.year).values\n",
    "    comp = comp.dropna()\n",
    "    for c in [coin, \"sp500\", \"nas\"]:\n",
    "        comp[f\"ret_1d_{c}\"] = (\n",
    "            (comp[c] / comp[c].shift(1))\n",
    "            .replace([np.inf, -np.inf], np.nan)\n",
    "            .fillna(\n",
    "                1,\n",
    "            )\n",
    "        )\n",
    "    return comp"
   ]
  },
  {
   "cell_type": "code",
   "execution_count": 11,
   "id": "8322e109-eed0-41f5-bfe2-af222a1784aa",
   "metadata": {},
   "outputs": [
    {
     "data": {
      "text/html": [
       "<div>\n",
       "<style scoped>\n",
       "    .dataframe tbody tr th:only-of-type {\n",
       "        vertical-align: middle;\n",
       "    }\n",
       "\n",
       "    .dataframe tbody tr th {\n",
       "        vertical-align: top;\n",
       "    }\n",
       "\n",
       "    .dataframe thead th {\n",
       "        text-align: right;\n",
       "    }\n",
       "</style>\n",
       "<table border=\"1\" class=\"dataframe\">\n",
       "  <thead>\n",
       "    <tr style=\"text-align: right;\">\n",
       "      <th></th>\n",
       "      <th>ret_1d_sol</th>\n",
       "      <th>ret_1d_sp500</th>\n",
       "      <th>ret_1d_nas</th>\n",
       "    </tr>\n",
       "  </thead>\n",
       "  <tbody>\n",
       "    <tr>\n",
       "      <th>ret_1d_sol</th>\n",
       "      <td>1.000000</td>\n",
       "      <td>0.199161</td>\n",
       "      <td>0.107445</td>\n",
       "    </tr>\n",
       "    <tr>\n",
       "      <th>ret_1d_sp500</th>\n",
       "      <td>0.199161</td>\n",
       "      <td>1.000000</td>\n",
       "      <td>0.856776</td>\n",
       "    </tr>\n",
       "    <tr>\n",
       "      <th>ret_1d_nas</th>\n",
       "      <td>0.107445</td>\n",
       "      <td>0.856776</td>\n",
       "      <td>1.000000</td>\n",
       "    </tr>\n",
       "  </tbody>\n",
       "</table>\n",
       "</div>"
      ],
      "text/plain": [
       "              ret_1d_sol  ret_1d_sp500  ret_1d_nas\n",
       "ret_1d_sol      1.000000      0.199161    0.107445\n",
       "ret_1d_sp500    0.199161      1.000000    0.856776\n",
       "ret_1d_nas      0.107445      0.856776    1.000000"
      ]
     },
     "execution_count": 11,
     "metadata": {},
     "output_type": "execute_result"
    }
   ],
   "source": [
    "comp = daily_comparrision(\"sol\")\n",
    "comp.iloc[:, -3:].corr()"
   ]
  },
  {
   "cell_type": "code",
   "execution_count": 12,
   "id": "42803b9a-348f-4fa3-a524-1a411a1ecba4",
   "metadata": {},
   "outputs": [
    {
     "data": {
      "text/plain": [
       "ret_1d_sol      0.009336\n",
       "ret_1d_sp500    0.000472\n",
       "ret_1d_nas      0.000410\n",
       "dtype: float64"
      ]
     },
     "execution_count": 12,
     "metadata": {},
     "output_type": "execute_result"
    }
   ],
   "source": [
    "(comp.iloc[:, -3:] - 1).mean()"
   ]
  },
  {
   "cell_type": "code",
   "execution_count": 13,
   "id": "79213da1-5a58-4967-9b81-8b1316d0944f",
   "metadata": {},
   "outputs": [],
   "source": [
    "cat_daily = same_category(comp.iloc[:, -3:], [-0.005, 0.005])"
   ]
  },
  {
   "cell_type": "code",
   "execution_count": 14,
   "id": "733f5f1c-3957-477a-b247-fc3d33bb07ff",
   "metadata": {},
   "outputs": [
    {
     "data": {
      "text/html": [
       "<div>\n",
       "<style scoped>\n",
       "    .dataframe tbody tr th:only-of-type {\n",
       "        vertical-align: middle;\n",
       "    }\n",
       "\n",
       "    .dataframe tbody tr th {\n",
       "        vertical-align: top;\n",
       "    }\n",
       "\n",
       "    .dataframe thead th {\n",
       "        text-align: right;\n",
       "    }\n",
       "</style>\n",
       "<table border=\"1\" class=\"dataframe\">\n",
       "  <thead>\n",
       "    <tr style=\"text-align: right;\">\n",
       "      <th></th>\n",
       "      <th>ret_1d_sp500_eq_0</th>\n",
       "      <th>ret_1d_sp500_eq_-1</th>\n",
       "      <th>ret_1d_sp500_eq_1</th>\n",
       "      <th>ret_1d_nas_eq_0</th>\n",
       "      <th>ret_1d_nas_eq_-1</th>\n",
       "      <th>ret_1d_nas_eq_1</th>\n",
       "    </tr>\n",
       "  </thead>\n",
       "  <tbody>\n",
       "    <tr>\n",
       "      <th>-1</th>\n",
       "      <td>0.144665</td>\n",
       "      <td>0.695652</td>\n",
       "      <td>0.330357</td>\n",
       "      <td>0.112840</td>\n",
       "      <td>0.597701</td>\n",
       "      <td>0.413534</td>\n",
       "    </tr>\n",
       "    <tr>\n",
       "      <th>0</th>\n",
       "      <td>0.683544</td>\n",
       "      <td>0.028986</td>\n",
       "      <td>0.071429</td>\n",
       "      <td>0.737354</td>\n",
       "      <td>0.045977</td>\n",
       "      <td>0.037594</td>\n",
       "    </tr>\n",
       "    <tr>\n",
       "      <th>1</th>\n",
       "      <td>0.171790</td>\n",
       "      <td>0.275362</td>\n",
       "      <td>0.598214</td>\n",
       "      <td>0.149805</td>\n",
       "      <td>0.356322</td>\n",
       "      <td>0.548872</td>\n",
       "    </tr>\n",
       "  </tbody>\n",
       "</table>\n",
       "</div>"
      ],
      "text/plain": [
       "    ret_1d_sp500_eq_0  ret_1d_sp500_eq_-1  ret_1d_sp500_eq_1  ret_1d_nas_eq_0  \\\n",
       "-1           0.144665            0.695652           0.330357         0.112840   \n",
       " 0           0.683544            0.028986           0.071429         0.737354   \n",
       " 1           0.171790            0.275362           0.598214         0.149805   \n",
       "\n",
       "    ret_1d_nas_eq_-1  ret_1d_nas_eq_1  \n",
       "-1          0.597701         0.413534  \n",
       " 0          0.045977         0.037594  \n",
       " 1          0.356322         0.548872  "
      ]
     },
     "execution_count": 14,
     "metadata": {},
     "output_type": "execute_result"
    }
   ],
   "source": [
    "cat_given_cat(cat_daily)"
   ]
  },
  {
   "cell_type": "markdown",
   "id": "a7390929-ed62-43b0-aa22-24f4cc16a6fd",
   "metadata": {},
   "source": [
    "### monthly return"
   ]
  },
  {
   "cell_type": "code",
   "execution_count": 15,
   "id": "ac8e5eee-df12-486d-b5a8-3a2404193068",
   "metadata": {},
   "outputs": [],
   "source": [
    "def monthly_comparrision(coin):\n",
    "    comp = daily_comparrision(coin)\n",
    "    comp_month = comp.groupby(by=\"month\")[\n",
    "        f\"ret_1d_{coin}\", \"ret_1d_sp500\", \"ret_1d_nas\"\n",
    "    ].prod()\n",
    "    comp_month.columns = [f\"ret_1m_{coin}\", \"ret_1m_sp500\", \"ret_1m_nas\"]\n",
    "    return comp_month"
   ]
  },
  {
   "cell_type": "code",
   "execution_count": 16,
   "id": "dea86080-fa20-410e-8ada-6e13037ded8d",
   "metadata": {},
   "outputs": [
    {
     "name": "stderr",
     "output_type": "stream",
     "text": [
      "/var/folders/y2/kn_782d959q_kshjqj842tpc0000gn/T/ipykernel_16997/53174413.py:3: FutureWarning: Indexing with multiple keys (implicitly converted to a tuple of keys) will be deprecated, use a list instead.\n",
      "  comp_month = comp.groupby(by=\"month\")[\n"
     ]
    },
    {
     "data": {
      "text/html": [
       "<div>\n",
       "<style scoped>\n",
       "    .dataframe tbody tr th:only-of-type {\n",
       "        vertical-align: middle;\n",
       "    }\n",
       "\n",
       "    .dataframe tbody tr th {\n",
       "        vertical-align: top;\n",
       "    }\n",
       "\n",
       "    .dataframe thead th {\n",
       "        text-align: right;\n",
       "    }\n",
       "</style>\n",
       "<table border=\"1\" class=\"dataframe\">\n",
       "  <thead>\n",
       "    <tr style=\"text-align: right;\">\n",
       "      <th></th>\n",
       "      <th>ret_1m_sol</th>\n",
       "      <th>ret_1m_sp500</th>\n",
       "      <th>ret_1m_nas</th>\n",
       "    </tr>\n",
       "  </thead>\n",
       "  <tbody>\n",
       "    <tr>\n",
       "      <th>ret_1m_sol</th>\n",
       "      <td>1.000000</td>\n",
       "      <td>0.367179</td>\n",
       "      <td>0.346062</td>\n",
       "    </tr>\n",
       "    <tr>\n",
       "      <th>ret_1m_sp500</th>\n",
       "      <td>0.367179</td>\n",
       "      <td>1.000000</td>\n",
       "      <td>0.910547</td>\n",
       "    </tr>\n",
       "    <tr>\n",
       "      <th>ret_1m_nas</th>\n",
       "      <td>0.346062</td>\n",
       "      <td>0.910547</td>\n",
       "      <td>1.000000</td>\n",
       "    </tr>\n",
       "  </tbody>\n",
       "</table>\n",
       "</div>"
      ],
      "text/plain": [
       "              ret_1m_sol  ret_1m_sp500  ret_1m_nas\n",
       "ret_1m_sol      1.000000      0.367179    0.346062\n",
       "ret_1m_sp500    0.367179      1.000000    0.910547\n",
       "ret_1m_nas      0.346062      0.910547    1.000000"
      ]
     },
     "execution_count": 16,
     "metadata": {},
     "output_type": "execute_result"
    }
   ],
   "source": [
    "comp_month = monthly_comparrision(\"sol\")\n",
    "comp_month.corr()"
   ]
  },
  {
   "cell_type": "code",
   "execution_count": 17,
   "id": "80ecda66-02ab-4e3c-b4f4-33c1948120eb",
   "metadata": {},
   "outputs": [
    {
     "data": {
      "text/plain": [
       "ret_1m_sol      0.520904\n",
       "ret_1m_sp500    0.018421\n",
       "ret_1m_nas      0.015499\n",
       "dtype: float64"
      ]
     },
     "execution_count": 17,
     "metadata": {},
     "output_type": "execute_result"
    }
   ],
   "source": [
    "(comp_month - 1).mean()"
   ]
  },
  {
   "cell_type": "code",
   "execution_count": 18,
   "id": "9830f4c5-8eef-4eb5-b418-93de9a070435",
   "metadata": {},
   "outputs": [],
   "source": [
    "cat_monthly = same_category(comp_month, [-0.01, 0.01])"
   ]
  },
  {
   "cell_type": "code",
   "execution_count": 19,
   "id": "26c85c64-aacc-4bdd-83d8-07438dbb06d6",
   "metadata": {},
   "outputs": [
    {
     "data": {
      "text/html": [
       "<div>\n",
       "<style scoped>\n",
       "    .dataframe tbody tr th:only-of-type {\n",
       "        vertical-align: middle;\n",
       "    }\n",
       "\n",
       "    .dataframe tbody tr th {\n",
       "        vertical-align: top;\n",
       "    }\n",
       "\n",
       "    .dataframe thead th {\n",
       "        text-align: right;\n",
       "    }\n",
       "</style>\n",
       "<table border=\"1\" class=\"dataframe\">\n",
       "  <thead>\n",
       "    <tr style=\"text-align: right;\">\n",
       "      <th></th>\n",
       "      <th>ret_1m_sp500_eq_1</th>\n",
       "      <th>ret_1m_sp500_eq_-1</th>\n",
       "      <th>ret_1m_sp500_eq_0</th>\n",
       "      <th>ret_1m_nas_eq_0</th>\n",
       "      <th>ret_1m_nas_eq_1</th>\n",
       "      <th>ret_1m_nas_eq_-1</th>\n",
       "    </tr>\n",
       "  </thead>\n",
       "  <tbody>\n",
       "    <tr>\n",
       "      <th>-1</th>\n",
       "      <td>0.214286</td>\n",
       "      <td>0.75</td>\n",
       "      <td>1.0</td>\n",
       "      <td>0.5</td>\n",
       "      <td>0.111111</td>\n",
       "      <td>0.75</td>\n",
       "    </tr>\n",
       "    <tr>\n",
       "      <th>1</th>\n",
       "      <td>0.785714</td>\n",
       "      <td>0.25</td>\n",
       "      <td>NaN</td>\n",
       "      <td>0.5</td>\n",
       "      <td>0.888889</td>\n",
       "      <td>0.25</td>\n",
       "    </tr>\n",
       "  </tbody>\n",
       "</table>\n",
       "</div>"
      ],
      "text/plain": [
       "    ret_1m_sp500_eq_1  ret_1m_sp500_eq_-1  ret_1m_sp500_eq_0  ret_1m_nas_eq_0  \\\n",
       "-1           0.214286                0.75                1.0              0.5   \n",
       " 1           0.785714                0.25                NaN              0.5   \n",
       "\n",
       "    ret_1m_nas_eq_1  ret_1m_nas_eq_-1  \n",
       "-1         0.111111              0.75  \n",
       " 1         0.888889              0.25  "
      ]
     },
     "execution_count": 19,
     "metadata": {},
     "output_type": "execute_result"
    }
   ],
   "source": [
    "cat_given_cat(cat_monthly)"
   ]
  },
  {
   "cell_type": "code",
   "execution_count": 20,
   "id": "5719fbc5-512b-4d0e-bbc3-3858b55c88f4",
   "metadata": {},
   "outputs": [
    {
     "data": {
      "text/plain": [
       "ret_1m_sol      0.904745\n",
       "ret_1m_sp500    0.001586\n",
       "ret_1m_nas      0.002575\n",
       "dtype: float64"
      ]
     },
     "execution_count": 20,
     "metadata": {},
     "output_type": "execute_result"
    }
   ],
   "source": [
    "comp_month.var()"
   ]
  },
  {
   "cell_type": "markdown",
   "id": "202b3e38-b886-4efa-9647-6bdf60f3cf59",
   "metadata": {},
   "source": [
    "### yearly return"
   ]
  },
  {
   "cell_type": "code",
   "execution_count": 21,
   "id": "4915ea17-be44-4bff-8eb9-49ef99a5bbae",
   "metadata": {},
   "outputs": [],
   "source": [
    "def yearly_comparrision(coin):\n",
    "    comp = daily_comparrision(coin)\n",
    "    comp_month = comp.groupby(by=\"year\")[\n",
    "        f\"ret_1d_{coin}\", \"ret_1d_sp500\", \"ret_1d_nas\"\n",
    "    ].prod()\n",
    "    comp_month.columns = [f\"ret_1y_{coin}\", \"ret_1y_sp500\", \"ret_1y_nas\"]\n",
    "    return comp_month"
   ]
  },
  {
   "cell_type": "code",
   "execution_count": 22,
   "id": "32e49bb2-6f75-4cc3-92c4-5f6180b0dd33",
   "metadata": {},
   "outputs": [
    {
     "name": "stderr",
     "output_type": "stream",
     "text": [
      "/var/folders/y2/kn_782d959q_kshjqj842tpc0000gn/T/ipykernel_16997/395322584.py:3: FutureWarning: Indexing with multiple keys (implicitly converted to a tuple of keys) will be deprecated, use a list instead.\n",
      "  comp_month = comp.groupby(by=\"year\")[\n"
     ]
    },
    {
     "data": {
      "text/html": [
       "<div>\n",
       "<style scoped>\n",
       "    .dataframe tbody tr th:only-of-type {\n",
       "        vertical-align: middle;\n",
       "    }\n",
       "\n",
       "    .dataframe tbody tr th {\n",
       "        vertical-align: top;\n",
       "    }\n",
       "\n",
       "    .dataframe thead th {\n",
       "        text-align: right;\n",
       "    }\n",
       "</style>\n",
       "<table border=\"1\" class=\"dataframe\">\n",
       "  <thead>\n",
       "    <tr style=\"text-align: right;\">\n",
       "      <th></th>\n",
       "      <th>ret_1y_sol</th>\n",
       "      <th>ret_1y_sp500</th>\n",
       "      <th>ret_1y_nas</th>\n",
       "    </tr>\n",
       "  </thead>\n",
       "  <tbody>\n",
       "    <tr>\n",
       "      <th>ret_1y_sol</th>\n",
       "      <td>1.000000</td>\n",
       "      <td>0.760010</td>\n",
       "      <td>0.553564</td>\n",
       "    </tr>\n",
       "    <tr>\n",
       "      <th>ret_1y_sp500</th>\n",
       "      <td>0.760010</td>\n",
       "      <td>1.000000</td>\n",
       "      <td>0.961965</td>\n",
       "    </tr>\n",
       "    <tr>\n",
       "      <th>ret_1y_nas</th>\n",
       "      <td>0.553564</td>\n",
       "      <td>0.961965</td>\n",
       "      <td>1.000000</td>\n",
       "    </tr>\n",
       "  </tbody>\n",
       "</table>\n",
       "</div>"
      ],
      "text/plain": [
       "              ret_1y_sol  ret_1y_sp500  ret_1y_nas\n",
       "ret_1y_sol      1.000000      0.760010    0.553564\n",
       "ret_1y_sp500    0.760010      1.000000    0.961965\n",
       "ret_1y_nas      0.553564      0.961965    1.000000"
      ]
     },
     "execution_count": 22,
     "metadata": {},
     "output_type": "execute_result"
    }
   ],
   "source": [
    "comp_year = yearly_comparrision(\"sol\")\n",
    "comp_year.corr()"
   ]
  },
  {
   "cell_type": "code",
   "execution_count": 23,
   "id": "b096ab40-b2ef-4b90-be72-9f5d9ba6f2aa",
   "metadata": {},
   "outputs": [
    {
     "data": {
      "text/html": [
       "<div>\n",
       "<style scoped>\n",
       "    .dataframe tbody tr th:only-of-type {\n",
       "        vertical-align: middle;\n",
       "    }\n",
       "\n",
       "    .dataframe tbody tr th {\n",
       "        vertical-align: top;\n",
       "    }\n",
       "\n",
       "    .dataframe thead th {\n",
       "        text-align: right;\n",
       "    }\n",
       "</style>\n",
       "<table border=\"1\" class=\"dataframe\">\n",
       "  <thead>\n",
       "    <tr style=\"text-align: right;\">\n",
       "      <th></th>\n",
       "      <th>ret_1y_sol</th>\n",
       "      <th>ret_1y_sp500</th>\n",
       "      <th>ret_1y_nas</th>\n",
       "    </tr>\n",
       "    <tr>\n",
       "      <th>year</th>\n",
       "      <th></th>\n",
       "      <th></th>\n",
       "      <th></th>\n",
       "    </tr>\n",
       "  </thead>\n",
       "  <tbody>\n",
       "    <tr>\n",
       "      <th>2020</th>\n",
       "      <td>1.520317</td>\n",
       "      <td>1.164798</td>\n",
       "      <td>1.200111</td>\n",
       "    </tr>\n",
       "    <tr>\n",
       "      <th>2021</th>\n",
       "      <td>112.456975</td>\n",
       "      <td>1.279096</td>\n",
       "      <td>1.220999</td>\n",
       "    </tr>\n",
       "    <tr>\n",
       "      <th>2022</th>\n",
       "      <td>0.739898</td>\n",
       "      <td>0.936373</td>\n",
       "      <td>0.893360</td>\n",
       "    </tr>\n",
       "  </tbody>\n",
       "</table>\n",
       "</div>"
      ],
      "text/plain": [
       "      ret_1y_sol  ret_1y_sp500  ret_1y_nas\n",
       "year                                      \n",
       "2020    1.520317      1.164798    1.200111\n",
       "2021  112.456975      1.279096    1.220999\n",
       "2022    0.739898      0.936373    0.893360"
      ]
     },
     "execution_count": 23,
     "metadata": {},
     "output_type": "execute_result"
    }
   ],
   "source": [
    "comp_year"
   ]
  },
  {
   "cell_type": "code",
   "execution_count": 24,
   "id": "ffee9254-12b3-4170-97d2-a35fdd165439",
   "metadata": {},
   "outputs": [
    {
     "data": {
      "text/html": [
       "<div>\n",
       "<style scoped>\n",
       "    .dataframe tbody tr th:only-of-type {\n",
       "        vertical-align: middle;\n",
       "    }\n",
       "\n",
       "    .dataframe tbody tr th {\n",
       "        vertical-align: top;\n",
       "    }\n",
       "\n",
       "    .dataframe thead th {\n",
       "        text-align: right;\n",
       "    }\n",
       "</style>\n",
       "<table border=\"1\" class=\"dataframe\">\n",
       "  <thead>\n",
       "    <tr style=\"text-align: right;\">\n",
       "      <th></th>\n",
       "      <th>ret_1y_sol</th>\n",
       "      <th>ret_1y_sp500</th>\n",
       "      <th>ret_1y_nas</th>\n",
       "    </tr>\n",
       "    <tr>\n",
       "      <th>year</th>\n",
       "      <th></th>\n",
       "      <th></th>\n",
       "      <th></th>\n",
       "    </tr>\n",
       "  </thead>\n",
       "  <tbody>\n",
       "    <tr>\n",
       "      <th>2020</th>\n",
       "      <td>0.520317</td>\n",
       "      <td>0.164798</td>\n",
       "      <td>0.200111</td>\n",
       "    </tr>\n",
       "    <tr>\n",
       "      <th>2021</th>\n",
       "      <td>111.456975</td>\n",
       "      <td>0.279096</td>\n",
       "      <td>0.220999</td>\n",
       "    </tr>\n",
       "    <tr>\n",
       "      <th>2022</th>\n",
       "      <td>-0.260102</td>\n",
       "      <td>-0.063627</td>\n",
       "      <td>-0.106640</td>\n",
       "    </tr>\n",
       "  </tbody>\n",
       "</table>\n",
       "</div>"
      ],
      "text/plain": [
       "      ret_1y_sol  ret_1y_sp500  ret_1y_nas\n",
       "year                                      \n",
       "2020    0.520317      0.164798    0.200111\n",
       "2021  111.456975      0.279096    0.220999\n",
       "2022   -0.260102     -0.063627   -0.106640"
      ]
     },
     "execution_count": 24,
     "metadata": {},
     "output_type": "execute_result"
    }
   ],
   "source": [
    "comp_year - 1"
   ]
  },
  {
   "cell_type": "code",
   "execution_count": 25,
   "id": "d75c9823-c55f-49e3-bd87-18c1d3322fe9",
   "metadata": {},
   "outputs": [
    {
     "data": {
      "text/plain": [
       "ret_1y_sol      37.239063\n",
       "ret_1y_sp500     0.126756\n",
       "ret_1y_nas       0.104823\n",
       "dtype: float64"
      ]
     },
     "execution_count": 25,
     "metadata": {},
     "output_type": "execute_result"
    }
   ],
   "source": [
    "(comp_year - 1).mean()"
   ]
  },
  {
   "cell_type": "code",
   "execution_count": 26,
   "id": "84bab132-21ec-4016-b333-d4c630ff0292",
   "metadata": {},
   "outputs": [
    {
     "data": {
      "text/html": [
       "<div>\n",
       "<style scoped>\n",
       "    .dataframe tbody tr th:only-of-type {\n",
       "        vertical-align: middle;\n",
       "    }\n",
       "\n",
       "    .dataframe tbody tr th {\n",
       "        vertical-align: top;\n",
       "    }\n",
       "\n",
       "    .dataframe thead th {\n",
       "        text-align: right;\n",
       "    }\n",
       "</style>\n",
       "<table border=\"1\" class=\"dataframe\">\n",
       "  <thead>\n",
       "    <tr style=\"text-align: right;\">\n",
       "      <th></th>\n",
       "      <th>ret_1y_sol</th>\n",
       "      <th>ret_1y_sp500</th>\n",
       "      <th>ret_1y_nas</th>\n",
       "    </tr>\n",
       "    <tr>\n",
       "      <th>year</th>\n",
       "      <th></th>\n",
       "      <th></th>\n",
       "      <th></th>\n",
       "    </tr>\n",
       "  </thead>\n",
       "  <tbody>\n",
       "    <tr>\n",
       "      <th>2020</th>\n",
       "      <td>1</td>\n",
       "      <td>1</td>\n",
       "      <td>1</td>\n",
       "    </tr>\n",
       "    <tr>\n",
       "      <th>2021</th>\n",
       "      <td>1</td>\n",
       "      <td>1</td>\n",
       "      <td>1</td>\n",
       "    </tr>\n",
       "    <tr>\n",
       "      <th>2022</th>\n",
       "      <td>-1</td>\n",
       "      <td>-1</td>\n",
       "      <td>-1</td>\n",
       "    </tr>\n",
       "  </tbody>\n",
       "</table>\n",
       "</div>"
      ],
      "text/plain": [
       "      ret_1y_sol  ret_1y_sp500  ret_1y_nas\n",
       "year                                      \n",
       "2020           1             1           1\n",
       "2021           1             1           1\n",
       "2022          -1            -1          -1"
      ]
     },
     "execution_count": 26,
     "metadata": {},
     "output_type": "execute_result"
    }
   ],
   "source": [
    "cat_yearly = same_category(comp_year, [-0.02, 0.05])\n",
    "cat_yearly"
   ]
  },
  {
   "cell_type": "code",
   "execution_count": 27,
   "id": "d35d3f83-3b33-4e1b-b174-301f144e89ff",
   "metadata": {},
   "outputs": [
    {
     "data": {
      "text/html": [
       "<div>\n",
       "<style scoped>\n",
       "    .dataframe tbody tr th:only-of-type {\n",
       "        vertical-align: middle;\n",
       "    }\n",
       "\n",
       "    .dataframe tbody tr th {\n",
       "        vertical-align: top;\n",
       "    }\n",
       "\n",
       "    .dataframe thead th {\n",
       "        text-align: right;\n",
       "    }\n",
       "</style>\n",
       "<table border=\"1\" class=\"dataframe\">\n",
       "  <thead>\n",
       "    <tr style=\"text-align: right;\">\n",
       "      <th></th>\n",
       "      <th>ret_1y_sp500_eq_1</th>\n",
       "      <th>ret_1y_sp500_eq_-1</th>\n",
       "      <th>ret_1y_nas_eq_1</th>\n",
       "      <th>ret_1y_nas_eq_-1</th>\n",
       "    </tr>\n",
       "  </thead>\n",
       "  <tbody>\n",
       "    <tr>\n",
       "      <th>-1</th>\n",
       "      <td>NaN</td>\n",
       "      <td>1.0</td>\n",
       "      <td>NaN</td>\n",
       "      <td>1.0</td>\n",
       "    </tr>\n",
       "    <tr>\n",
       "      <th>1</th>\n",
       "      <td>1.0</td>\n",
       "      <td>NaN</td>\n",
       "      <td>1.0</td>\n",
       "      <td>NaN</td>\n",
       "    </tr>\n",
       "  </tbody>\n",
       "</table>\n",
       "</div>"
      ],
      "text/plain": [
       "    ret_1y_sp500_eq_1  ret_1y_sp500_eq_-1  ret_1y_nas_eq_1  ret_1y_nas_eq_-1\n",
       "-1                NaN                 1.0              NaN               1.0\n",
       " 1                1.0                 NaN              1.0               NaN"
      ]
     },
     "execution_count": 27,
     "metadata": {},
     "output_type": "execute_result"
    }
   ],
   "source": [
    "cat_given_cat(cat_yearly)"
   ]
  },
  {
   "cell_type": "markdown",
   "id": "543edc9e-6fc2-424f-9446-e83b3cea6415",
   "metadata": {},
   "source": [
    "### yearly return for months (yearly returns evaluated each month)"
   ]
  },
  {
   "cell_type": "code",
   "execution_count": 28,
   "id": "4916a192-a4c4-4434-8e8f-b465c7a23b57",
   "metadata": {},
   "outputs": [],
   "source": [
    "comp_ym = comp_month.copy()\n",
    "comp_ym = comp_ym.rolling(12).apply(lambda x: np.product(x)).dropna()\n",
    "# comp_ym = comp_ym - 1"
   ]
  },
  {
   "cell_type": "code",
   "execution_count": 29,
   "id": "ba3e1e22-b4d5-44c3-9794-df4cec4f7de5",
   "metadata": {},
   "outputs": [
    {
     "data": {
      "text/html": [
       "<div>\n",
       "<style scoped>\n",
       "    .dataframe tbody tr th:only-of-type {\n",
       "        vertical-align: middle;\n",
       "    }\n",
       "\n",
       "    .dataframe tbody tr th {\n",
       "        vertical-align: top;\n",
       "    }\n",
       "\n",
       "    .dataframe thead th {\n",
       "        text-align: right;\n",
       "    }\n",
       "</style>\n",
       "<table border=\"1\" class=\"dataframe\">\n",
       "  <thead>\n",
       "    <tr style=\"text-align: right;\">\n",
       "      <th></th>\n",
       "      <th>ret_1m_sol</th>\n",
       "      <th>ret_1m_sp500</th>\n",
       "      <th>ret_1m_nas</th>\n",
       "    </tr>\n",
       "    <tr>\n",
       "      <th>month</th>\n",
       "      <th></th>\n",
       "      <th></th>\n",
       "      <th></th>\n",
       "    </tr>\n",
       "  </thead>\n",
       "  <tbody>\n",
       "    <tr>\n",
       "      <th>202106</th>\n",
       "      <td>1</td>\n",
       "      <td>1</td>\n",
       "      <td>1</td>\n",
       "    </tr>\n",
       "    <tr>\n",
       "      <th>202107</th>\n",
       "      <td>1</td>\n",
       "      <td>1</td>\n",
       "      <td>1</td>\n",
       "    </tr>\n",
       "    <tr>\n",
       "      <th>202108</th>\n",
       "      <td>1</td>\n",
       "      <td>1</td>\n",
       "      <td>1</td>\n",
       "    </tr>\n",
       "    <tr>\n",
       "      <th>202109</th>\n",
       "      <td>1</td>\n",
       "      <td>1</td>\n",
       "      <td>1</td>\n",
       "    </tr>\n",
       "    <tr>\n",
       "      <th>202110</th>\n",
       "      <td>1</td>\n",
       "      <td>1</td>\n",
       "      <td>1</td>\n",
       "    </tr>\n",
       "    <tr>\n",
       "      <th>202111</th>\n",
       "      <td>1</td>\n",
       "      <td>1</td>\n",
       "      <td>1</td>\n",
       "    </tr>\n",
       "    <tr>\n",
       "      <th>202112</th>\n",
       "      <td>1</td>\n",
       "      <td>1</td>\n",
       "      <td>1</td>\n",
       "    </tr>\n",
       "    <tr>\n",
       "      <th>202201</th>\n",
       "      <td>1</td>\n",
       "      <td>1</td>\n",
       "      <td>1</td>\n",
       "    </tr>\n",
       "  </tbody>\n",
       "</table>\n",
       "</div>"
      ],
      "text/plain": [
       "        ret_1m_sol  ret_1m_sp500  ret_1m_nas\n",
       "month                                       \n",
       "202106           1             1           1\n",
       "202107           1             1           1\n",
       "202108           1             1           1\n",
       "202109           1             1           1\n",
       "202110           1             1           1\n",
       "202111           1             1           1\n",
       "202112           1             1           1\n",
       "202201           1             1           1"
      ]
     },
     "execution_count": 29,
     "metadata": {},
     "output_type": "execute_result"
    }
   ],
   "source": [
    "cat_ym = same_category(comp_ym, [-0.02, 0.05])\n",
    "cat_ym"
   ]
  },
  {
   "cell_type": "code",
   "execution_count": 30,
   "id": "7e1efe54-98a7-4cbf-b352-0f8885f5f336",
   "metadata": {},
   "outputs": [
    {
     "data": {
      "text/html": [
       "<div>\n",
       "<style scoped>\n",
       "    .dataframe tbody tr th:only-of-type {\n",
       "        vertical-align: middle;\n",
       "    }\n",
       "\n",
       "    .dataframe tbody tr th {\n",
       "        vertical-align: top;\n",
       "    }\n",
       "\n",
       "    .dataframe thead th {\n",
       "        text-align: right;\n",
       "    }\n",
       "</style>\n",
       "<table border=\"1\" class=\"dataframe\">\n",
       "  <thead>\n",
       "    <tr style=\"text-align: right;\">\n",
       "      <th></th>\n",
       "      <th>ret_1m_sp500_eq_1</th>\n",
       "      <th>ret_1m_nas_eq_1</th>\n",
       "    </tr>\n",
       "  </thead>\n",
       "  <tbody>\n",
       "    <tr>\n",
       "      <th>1</th>\n",
       "      <td>1.0</td>\n",
       "      <td>1.0</td>\n",
       "    </tr>\n",
       "  </tbody>\n",
       "</table>\n",
       "</div>"
      ],
      "text/plain": [
       "   ret_1m_sp500_eq_1  ret_1m_nas_eq_1\n",
       "1                1.0              1.0"
      ]
     },
     "execution_count": 30,
     "metadata": {},
     "output_type": "execute_result"
    }
   ],
   "source": [
    "cat_given_cat(cat_ym).round(2)"
   ]
  },
  {
   "cell_type": "markdown",
   "id": "ba7d8a6b-5319-44f6-8644-878cd6299278",
   "metadata": {},
   "source": [
    "### magnitude"
   ]
  },
  {
   "cell_type": "code",
   "execution_count": 31,
   "id": "4d9a473e-180e-40ab-831f-a288deaa0c9b",
   "metadata": {},
   "outputs": [
    {
     "data": {
      "text/html": [
       "<div>\n",
       "<style scoped>\n",
       "    .dataframe tbody tr th:only-of-type {\n",
       "        vertical-align: middle;\n",
       "    }\n",
       "\n",
       "    .dataframe tbody tr th {\n",
       "        vertical-align: top;\n",
       "    }\n",
       "\n",
       "    .dataframe thead th {\n",
       "        text-align: right;\n",
       "    }\n",
       "</style>\n",
       "<table border=\"1\" class=\"dataframe\">\n",
       "  <thead>\n",
       "    <tr style=\"text-align: right;\">\n",
       "      <th></th>\n",
       "      <th>ret_1y_sol</th>\n",
       "      <th>ret_1y_sp500</th>\n",
       "      <th>ret_1y_nas</th>\n",
       "    </tr>\n",
       "    <tr>\n",
       "      <th>year</th>\n",
       "      <th></th>\n",
       "      <th></th>\n",
       "      <th></th>\n",
       "    </tr>\n",
       "  </thead>\n",
       "  <tbody>\n",
       "    <tr>\n",
       "      <th>2020</th>\n",
       "      <td>0.520317</td>\n",
       "      <td>0.164798</td>\n",
       "      <td>0.200111</td>\n",
       "    </tr>\n",
       "    <tr>\n",
       "      <th>2021</th>\n",
       "      <td>111.456975</td>\n",
       "      <td>0.279096</td>\n",
       "      <td>0.220999</td>\n",
       "    </tr>\n",
       "    <tr>\n",
       "      <th>2022</th>\n",
       "      <td>-0.260102</td>\n",
       "      <td>-0.063627</td>\n",
       "      <td>-0.106640</td>\n",
       "    </tr>\n",
       "  </tbody>\n",
       "</table>\n",
       "</div>"
      ],
      "text/plain": [
       "      ret_1y_sol  ret_1y_sp500  ret_1y_nas\n",
       "year                                      \n",
       "2020    0.520317      0.164798    0.200111\n",
       "2021  111.456975      0.279096    0.220999\n",
       "2022   -0.260102     -0.063627   -0.106640"
      ]
     },
     "execution_count": 31,
     "metadata": {},
     "output_type": "execute_result"
    }
   ],
   "source": [
    "yret = comp_year - 1\n",
    "yret"
   ]
  },
  {
   "cell_type": "code",
   "execution_count": 33,
   "id": "1730fa5e-0af7-491d-8f37-6d22ca897613",
   "metadata": {},
   "outputs": [
    {
     "data": {
      "text/plain": [
       "year\n",
       "2020      3.157307\n",
       "2021    399.350233\n",
       "2022      4.087955\n",
       "dtype: float64"
      ]
     },
     "execution_count": 33,
     "metadata": {},
     "output_type": "execute_result"
    }
   ],
   "source": [
    "(yret.ret_1y_sol / yret.ret_1y_sp500)"
   ]
  },
  {
   "cell_type": "code",
   "execution_count": 34,
   "id": "d0dcbd79-2d7c-46bf-8ab4-adc6bf0fbade",
   "metadata": {},
   "outputs": [
    {
     "data": {
      "text/plain": [
       "year\n",
       "2020      2.600149\n",
       "2021    504.333198\n",
       "2022      2.439071\n",
       "dtype: float64"
      ]
     },
     "execution_count": 34,
     "metadata": {},
     "output_type": "execute_result"
    }
   ],
   "source": [
    "(yret.ret_1y_sol / yret.ret_1y_nas)"
   ]
  },
  {
   "cell_type": "code",
   "execution_count": null,
   "id": "a580cbc6-2a79-472b-ae0d-3bbb45bb8935",
   "metadata": {},
   "outputs": [],
   "source": []
  }
 ],
 "metadata": {
  "kernelspec": {
   "display_name": "Python 3 (ipykernel)",
   "language": "python",
   "name": "python3"
  },
  "language_info": {
   "codemirror_mode": {
    "name": "ipython",
    "version": 3
   },
   "file_extension": ".py",
   "mimetype": "text/x-python",
   "name": "python",
   "nbconvert_exporter": "python",
   "pygments_lexer": "ipython3",
   "version": "3.8.12"
  }
 },
 "nbformat": 4,
 "nbformat_minor": 5
}
