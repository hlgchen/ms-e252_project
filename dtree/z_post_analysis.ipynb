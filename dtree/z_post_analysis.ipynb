{
 "cells": [
  {
   "cell_type": "code",
   "execution_count": null,
   "id": "893b0310-c039-4e34-969e-812010f946e6",
   "metadata": {},
   "outputs": [],
   "source": [
    "from matplotlib import pyplot as plt\n",
    "from matplotlib.pyplot import cm\n",
    "import pandas as pd\n",
    "import seaborn as sns\n",
    "import numpy as np\n",
    "sns.set_theme(style=\"white\")"
   ]
  },
  {
   "cell_type": "markdown",
   "id": "c0f91274-eab3-43c9-a0a6-d8ad10b079d1",
   "metadata": {},
   "source": [
    "### rho sensitivity"
   ]
  },
  {
   "cell_type": "code",
   "execution_count": null,
   "id": "72852024-2f08-474f-9f2e-28022723df6a",
   "metadata": {},
   "outputs": [],
   "source": [
    "df_rho = pd.read_excel(\"outputs/rho_sensitivity.xlsx\")"
   ]
  },
  {
   "cell_type": "code",
   "execution_count": null,
   "id": "002e88ae-30e2-4202-b5da-409df0c7cd61",
   "metadata": {},
   "outputs": [],
   "source": [
    "df_rho[\"new_action\"] = df_rho.best_action != df_rho.best_action.shift(1)"
   ]
  },
  {
   "cell_type": "code",
   "execution_count": null,
   "id": "1172769d-4da2-4fb8-abb3-a560eb41bbbf",
   "metadata": {},
   "outputs": [],
   "source": [
    "classes = df_rho.loc[df_rho.new_action]\n",
    "classes.index = classes.risk_tolerance\n",
    "classes = classes.best_action.to_dict()\n",
    "classes = [(k, v) for k,v in classes.items()]"
   ]
  },
  {
   "cell_type": "code",
   "execution_count": null,
   "id": "c1ba663b-4782-489e-b783-180fb335c48b",
   "metadata": {},
   "outputs": [],
   "source": [
    "fig, ax = plt.subplots(figsize = (20, 8))\n",
    "\n",
    "ax.plot(df_rho[:-1].risk_tolerance, df_rho[:-1].deal_value)\n",
    "ax.axhline(y=0,  linewidth=2, color='grey', linestyle = \":\")\n",
    "ax.axhline(y=df_rho.iloc[-1].deal_value, linewidth=2, color='green', label = \"Value for Risk Neutral DM\")\n",
    "\n",
    "\n",
    "color = iter(cm.winter(np.linspace(0, 1, len(classes))))\n",
    "for i in range(1, len(classes)):\n",
    "    c = next(color)\n",
    "    ax.axvspan(classes[i-1][0], classes[i][0], alpha = 0.2, color=c, label=f\"best action {classes[i-1][1]}\")\n",
    "\n",
    "c = next(color)\n",
    "xmax = ax.get_xlim()[1]\n",
    "ax.axvspan(classes[i][0], xmax, alpha = 0.2, color=c, label=f\"best action {classes[i][1]}\" )\n",
    "ax.set_xlim(0, xmax)\n",
    "ax.set_ylabel(\"Deal Value\", fontsize=16)\n",
    "ax.set_xlabel(\"Risktolerance Rho\", fontsize=16)\n",
    "ax.tick_params(labelsize=13)\n",
    "ax.tick_params(labelsize=13)\n",
    "\n",
    "plt.legend(loc='lower center', bbox_to_anchor=(0.5, 1.0),\n",
    "          ncol=3, fancybox=True, shadow=True, fontsize = 13)\n",
    "\n",
    "fig.savefig(\"plots/rho_sensitivyty.png\", bbox_inches=\"tight\")\n",
    "plt.show()"
   ]
  },
  {
   "cell_type": "markdown",
   "id": "aefda4fe-2ee1-4e5d-a739-2f7b3a827939",
   "metadata": {},
   "source": [
    "### magnitude probability"
   ]
  },
  {
   "cell_type": "code",
   "execution_count": null,
   "id": "8aee3f28-8e43-4915-9541-625f148c048a",
   "metadata": {},
   "outputs": [],
   "source": [
    "df_mag = pd.read_excel(\"outputs/mag_proba_sensitivity.xlsx\")"
   ]
  },
  {
   "cell_type": "code",
   "execution_count": null,
   "id": "5133f61f-14fb-4820-9875-c0c2c1e591cb",
   "metadata": {},
   "outputs": [],
   "source": [
    "df_mag_btc = df_mag.loc[df_mag.coin == \"BTC\"]\n",
    "df_mag_eth = df_mag.loc[df_mag.coin == \"ETH\"]\n",
    "df_mag_sol = df_mag.loc[df_mag.coin == \"SOL\"]"
   ]
  },
  {
   "cell_type": "code",
   "execution_count": null,
   "id": "17a7d36c-6177-4d3c-a505-dcd1bf36519a",
   "metadata": {},
   "outputs": [],
   "source": [
    "fig, ax = plt.subplots(figsize = (20, 8))\n",
    "\n",
    "ax.bar(df_mag_btc.mag1_probability-0.02, df_mag_btc.deal_value, width=0.02, color='b', align='center', label = \"Change probability for BTC\", alpha=0.7)\n",
    "ax.bar(df_mag_btc.mag1_probability, df_mag_eth.deal_value, width=0.02, color='darkgreen', align='center', label = \"Change probability for ETH\", alpha=0.7)\n",
    "ax.bar(df_mag_btc.mag1_probability+0.02, df_mag_sol.deal_value, width=0.02, color='orange', align='center', label=\"Change probability for SOL\", alpha=0.7)\n",
    "\n",
    "\n",
    "ax.set_ylabel(\"Deal Value\", fontsize=16)\n",
    "ax.set_xlabel(\"Probability for same Magnitude as NASDAQ\", fontsize=16)\n",
    "ax.tick_params(labelsize=13)\n",
    "ax.tick_params(labelsize=13)\n",
    "ax.set_xticks(df_mag_btc.mag1_probability)\n",
    "\n",
    "ax.set_ylim(0, df_mag.deal_value.max() * 1.3)\n",
    "\n",
    "for p in df_mag_btc.mag1_probability: \n",
    "    max_height = df_mag.loc[df_mag.mag1_probability == p].deal_value.max()\n",
    "    ax.text(p-0.04, max_height * 1.1 + 200, df_mag_btc.loc[df_mag_btc.mag1_probability ==p].best_action.iloc[0], backgroundcolor=\"b\", alpha = 0.7, color=\"white\")\n",
    "    ax.text(p-0.04, max_height * 1.1 + 100, df_mag_eth.loc[df_mag_eth.mag1_probability ==p].best_action.iloc[0], backgroundcolor=\"darkgreen\", alpha = 0.7, color=\"white\")\n",
    "    ax.text(p-0.04, max_height * 1.1, df_mag_sol.loc[df_mag_sol.mag1_probability ==p].best_action.iloc[0], backgroundcolor=\"orange\", alpha = 0.7, color=\"white\")\n",
    "\n",
    "plt.legend(fontsize=13, loc='upper left')\n",
    "plt.show()\n",
    "\n",
    "fig.savefig(\"plots/mag_proba_sensitivity.png\", bbox_inches=\"tight\")"
   ]
  },
  {
   "cell_type": "code",
   "execution_count": null,
   "id": "4157b8a4-7987-4f3d-a16f-74a9a4e5b07f",
   "metadata": {},
   "outputs": [],
   "source": []
  }
 ],
 "metadata": {
  "kernelspec": {
   "display_name": "Python 3 (ipykernel)",
   "language": "python",
   "name": "python3"
  },
  "language_info": {
   "codemirror_mode": {
    "name": "ipython",
    "version": 3
   },
   "file_extension": ".py",
   "mimetype": "text/x-python",
   "name": "python",
   "nbconvert_exporter": "python",
   "pygments_lexer": "ipython3",
   "version": "3.8.12"
  }
 },
 "nbformat": 4,
 "nbformat_minor": 5
}
