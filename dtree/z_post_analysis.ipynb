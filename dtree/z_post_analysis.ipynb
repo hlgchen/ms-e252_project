{
 "cells": [
  {
   "cell_type": "code",
   "execution_count": null,
   "id": "893b0310-c039-4e34-969e-812010f946e6",
   "metadata": {},
   "outputs": [],
   "source": [
    "from matplotlib import pyplot as plt\n",
    "from matplotlib.pyplot import cm\n",
    "import pandas as pd\n",
    "import seaborn as sns\n",
    "import numpy as np\n",
    "sns.set_theme(style=\"white\")"
   ]
  },
  {
   "cell_type": "code",
   "execution_count": null,
   "id": "92d1ca0f-2857-49da-a16f-0af9cff015f3",
   "metadata": {},
   "outputs": [],
   "source": [
    "def get_action_classes(df, idx_col): \n",
    "    df[\"new_action\"] = df.best_action != df.best_action.shift(1)\n",
    "    classes = df.loc[df.new_action]\n",
    "    classes.index = classes[idx_col]\n",
    "    classes = classes.best_action.to_dict()\n",
    "    classes = [(k, v) for k,v in classes.items()]\n",
    "    return classes"
   ]
  },
  {
   "cell_type": "markdown",
   "id": "c0f91274-eab3-43c9-a0a6-d8ad10b079d1",
   "metadata": {},
   "source": [
    "### rho sensitivity"
   ]
  },
  {
   "cell_type": "code",
   "execution_count": null,
   "id": "72852024-2f08-474f-9f2e-28022723df6a",
   "metadata": {},
   "outputs": [],
   "source": [
    "df_rho = pd.read_excel(\"outputs/rho_sensitivity.xlsx\")"
   ]
  },
  {
   "cell_type": "code",
   "execution_count": null,
   "id": "1172769d-4da2-4fb8-abb3-a560eb41bbbf",
   "metadata": {},
   "outputs": [],
   "source": [
    "classes = get_action_classes(df_rho, \"risk_tolerance\")"
   ]
  },
  {
   "cell_type": "code",
   "execution_count": null,
   "id": "c1ba663b-4782-489e-b783-180fb335c48b",
   "metadata": {},
   "outputs": [],
   "source": [
    "fig, ax = plt.subplots(figsize = (20, 8))\n",
    "\n",
    "ax.plot(df_rho[:-1].risk_tolerance, df_rho[:-1].deal_value)\n",
    "ax.axhline(y=0,  linewidth=2, color='grey', linestyle = \":\")\n",
    "ax.axhline(y=df_rho.iloc[-1].deal_value, linewidth=2, color='green', label = \"Value for Risk Neutral DM\")\n",
    "\n",
    "\n",
    "color = iter(cm.winter(np.linspace(0, 1, len(classes))))\n",
    "for i in range(1, len(classes)):\n",
    "    c = next(color)\n",
    "    ax.axvspan(classes[i-1][0], classes[i][0], alpha = 0.2, color=c, label=f\"best action {classes[i-1][1]}\")\n",
    "\n",
    "c = next(color)\n",
    "xmax = ax.get_xlim()[1]\n",
    "ax.axvspan(classes[i][0], xmax, alpha = 0.2, color=c, label=f\"best action {classes[i][1]}\" )\n",
    "ax.set_xlim(0, xmax)\n",
    "ax.set_ylabel(\"Deal Value\", fontsize=16)\n",
    "ax.set_xlabel(\"Risktolerance Rho\", fontsize=16)\n",
    "ax.tick_params(labelsize=13)\n",
    "ax.tick_params(labelsize=13)\n",
    "\n",
    "plt.legend(loc='lower center', bbox_to_anchor=(0.5, 1.0),\n",
    "          ncol=3, fancybox=True, shadow=True, fontsize = 13)\n",
    "\n",
    "fig.savefig(\"plots/rho_sensitivyty.png\", bbox_inches=\"tight\")\n",
    "plt.show()"
   ]
  },
  {
   "cell_type": "markdown",
   "id": "aefda4fe-2ee1-4e5d-a739-2f7b3a827939",
   "metadata": {},
   "source": [
    "### magnitude probability"
   ]
  },
  {
   "cell_type": "code",
   "execution_count": null,
   "id": "8aee3f28-8e43-4915-9541-625f148c048a",
   "metadata": {},
   "outputs": [],
   "source": [
    "df_mag = pd.read_excel(\"outputs/mag_proba_sensitivity.xlsx\")"
   ]
  },
  {
   "cell_type": "code",
   "execution_count": null,
   "id": "5133f61f-14fb-4820-9875-c0c2c1e591cb",
   "metadata": {},
   "outputs": [],
   "source": [
    "df_mag_btc = df_mag.loc[df_mag.coin == \"BTC\"]\n",
    "df_mag_eth = df_mag.loc[df_mag.coin == \"ETH\"]\n",
    "df_mag_sol = df_mag.loc[df_mag.coin == \"SOL\"]"
   ]
  },
  {
   "cell_type": "code",
   "execution_count": null,
   "id": "17a7d36c-6177-4d3c-a505-dcd1bf36519a",
   "metadata": {},
   "outputs": [],
   "source": [
    "fig, ax = plt.subplots(figsize = (20, 8))\n",
    "\n",
    "ax.bar(df_mag_btc.mag1_probability-0.02, df_mag_btc.deal_value, width=0.02, color='b', align='center', label = \"Change probability for BTC\", alpha=0.7)\n",
    "ax.bar(df_mag_btc.mag1_probability, df_mag_eth.deal_value, width=0.02, color='darkgreen', align='center', label = \"Change probability for ETH\", alpha=0.7)\n",
    "ax.bar(df_mag_btc.mag1_probability+0.02, df_mag_sol.deal_value, width=0.02, color='orange', align='center', label=\"Change probability for SOL\", alpha=0.7)\n",
    "\n",
    "\n",
    "ax.set_ylabel(\"Deal Value\", fontsize=16)\n",
    "ax.set_xlabel(\"Probability for same Magnitude as NASDAQ\", fontsize=16)\n",
    "ax.tick_params(labelsize=13)\n",
    "ax.tick_params(labelsize=13)\n",
    "ax.set_xticks(df_mag_btc.mag1_probability)\n",
    "\n",
    "ax.set_ylim(0, df_mag.deal_value.max() * 1.3)\n",
    "\n",
    "for p in df_mag_btc.mag1_probability: \n",
    "    max_height = df_mag.loc[df_mag.mag1_probability == p].deal_value.max()\n",
    "    ax.text(p-0.04, max_height * 1.1 + 200, df_mag_btc.loc[df_mag_btc.mag1_probability ==p].best_action.iloc[0], backgroundcolor=\"b\", alpha = 0.7, color=\"white\")\n",
    "    ax.text(p-0.04, max_height * 1.1 + 100, df_mag_eth.loc[df_mag_eth.mag1_probability ==p].best_action.iloc[0], backgroundcolor=\"darkgreen\", alpha = 0.7, color=\"white\")\n",
    "    ax.text(p-0.04, max_height * 1.1, df_mag_sol.loc[df_mag_sol.mag1_probability ==p].best_action.iloc[0], backgroundcolor=\"orange\", alpha = 0.7, color=\"white\")\n",
    "\n",
    "plt.legend(fontsize=13, loc='upper left')\n",
    "plt.show()\n",
    "\n",
    "fig.savefig(\"plots/mag_proba_sensitivity.png\", bbox_inches=\"tight\")"
   ]
  },
  {
   "cell_type": "markdown",
   "id": "a47244e2-e9e7-4dbe-848c-0cb62e56d596",
   "metadata": {},
   "source": [
    "### return level sensitivity"
   ]
  },
  {
   "cell_type": "code",
   "execution_count": null,
   "id": "184c5e50-bd59-4367-bad7-e373dc13039a",
   "metadata": {},
   "outputs": [],
   "source": [
    "df_ret = pd.read_excel(\"outputs/ret_level_sensitivity.xlsx\")"
   ]
  },
  {
   "cell_type": "code",
   "execution_count": null,
   "id": "07adb433-8b6a-41a2-a353-0e188e5c2c0a",
   "metadata": {},
   "outputs": [],
   "source": [
    "df_ret1s = df_ret.loc[df_ret.magnitude_normal == 1.5][:-1]\n",
    "df_ret2s = df_ret.loc[df_ret.magnitude_extreme == 4][1:]"
   ]
  },
  {
   "cell_type": "code",
   "execution_count": null,
   "id": "7ee8c299-2ac3-4e26-97d3-a0b6b2be841a",
   "metadata": {},
   "outputs": [],
   "source": [
    "classes1 = get_action_classes(df_ret1s, \"magnitude_extreme\")\n",
    "classes2 = get_action_classes(df_ret2s, \"magnitude_normal\")"
   ]
  },
  {
   "cell_type": "code",
   "execution_count": null,
   "id": "8fbb137a-2b65-4ff6-88af-2254bc6c112a",
   "metadata": {},
   "outputs": [],
   "source": [
    "fig, ax = plt.subplots(figsize = (10, 6))\n",
    "\n",
    "ax.plot(df_ret1s.magnitude_extreme, df_ret1s.deal_value)\n",
    "ax.set_xticks(np.arange(2, 8, 0.5))\n",
    "\n",
    "\n",
    "ax.set_ylabel(\"Deal Value\", fontsize=20)\n",
    "ax.set_xlabel(\"x2 - extreme return multiplier\", fontsize=20)\n",
    "ax.tick_params(labelsize=16)\n",
    "ax.tick_params(labelsize=16)\n",
    "\n",
    "ax.set_title(\"Figure 2: Deal Value when changing 'low_low' and 'high_high'\", fontsize=20)\n",
    "\n",
    "plt.show()\n",
    "fig.savefig(\"plots/sensitivity_magnitude_extreme.png\", bbox_inches=\"tight\")"
   ]
  },
  {
   "cell_type": "code",
   "execution_count": null,
   "id": "3e6c4379-57a3-4619-bb5e-3e2344a302c9",
   "metadata": {},
   "outputs": [],
   "source": [
    "fig, ax = plt.subplots(figsize = (10, 6))\n",
    "\n",
    "ax.plot(df_ret2s.magnitude_normal, df_ret2s.deal_value)\n",
    "ax.set_xticks(np.arange(1, 3, 0.2))\n",
    "\n",
    "ax.set_ylabel(\"Deal Value\", fontsize=20)\n",
    "ax.set_xlabel(\"x1 - normal return multiplier\", fontsize=20)\n",
    "ax.tick_params(labelsize=16)\n",
    "ax.tick_params(labelsize=16)\n",
    "\n",
    "ax.set_title(\"Figure 1: Deal Value when changing 'low' and 'high'\", fontsize=20)\n",
    "\n",
    "plt.show()\n",
    "fig.savefig(\"plots/sensitivity_magnitude_normal.png\", bbox_inches=\"tight\")"
   ]
  },
  {
   "cell_type": "code",
   "execution_count": null,
   "id": "9dc0936c-2449-4660-82ad-f698fdd6ec46",
   "metadata": {},
   "outputs": [],
   "source": []
  }
 ],
 "metadata": {
  "kernelspec": {
   "display_name": "Python 3 (ipykernel)",
   "language": "python",
   "name": "python3"
  },
  "language_info": {
   "codemirror_mode": {
    "name": "ipython",
    "version": 3
   },
   "file_extension": ".py",
   "mimetype": "text/x-python",
   "name": "python",
   "nbconvert_exporter": "python",
   "pygments_lexer": "ipython3",
   "version": "3.8.12"
  }
 },
 "nbformat": 4,
 "nbformat_minor": 5
}
